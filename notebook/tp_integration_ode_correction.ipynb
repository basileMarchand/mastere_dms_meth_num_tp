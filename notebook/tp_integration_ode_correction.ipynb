{
 "cells": [
  {
   "cell_type": "markdown",
   "metadata": {},
   "source": [
    "# Mastère DMS : Méthodes Numériques\n",
    "## Integration Equation Différentielle Ordinaire \n",
    "\n",
    "@author : Basile Marchand (basile.marchand@mines-paristech.fr)"
   ]
  },
  {
   "cell_type": "markdown",
   "metadata": {},
   "source": [
    "### Modèle de Maxwell\n",
    "$$ \\dot{\\varepsilon} = \\frac{1}{E} \\dot{\\sigma} + \\frac{1}{\\eta} \\sigma $$\n",
    "avec $\\varepsilon(t)=10^{-3} t$ imposé et $\\sigma(t=0) = 0$\n",
    "\n",
    "1. Calculer la solution analytique \n",
    "2. Déterminer la solution par une approche Euler explicite\n",
    "3. Déterminer la solution par une approche Euler implicite\n",
    "4. Faire de même avec la méthode RK4\n",
    "5. Utiliser `scipy.integrate.ode` pour calculer la solution de ce problème et comparer\n",
    "\n",
    "Données : $\\eta = 1000\\,MPa.s$, $E=20000\\,MPa$, $T=10\\,s$\n",
    "\n"
   ]
  },
  {
   "cell_type": "code",
   "execution_count": 4,
   "metadata": {},
   "outputs": [],
   "source": [
    "E = 20000.\n",
    "mu = 1000.\n",
    "load = 1.e-3\n",
    "sig_0 = 0\n",
    "\n",
    "T=0.5\n",
    "N = 100\n",
    "dt = T/N\n"
   ]
  },
  {
   "cell_type": "markdown",
   "metadata": {},
   "source": [
    "### Construction de la solution analytique "
   ]
  },
  {
   "cell_type": "code",
   "execution_count": 3,
   "metadata": {},
   "outputs": [],
   "source": [
    "import math \n",
    "def sol_analytique( t, params):\n",
    "    E = params[0]\n",
    "    mu = params[1]\n",
    "    load = params[2]\n",
    "    return load * mu * (1. - math.exp( - E/mu * t ) )\n"
   ]
  },
  {
   "cell_type": "code",
   "execution_count": 6,
   "metadata": {},
   "outputs": [
    {
     "data": {
      "image/png": "[encoded data removed]",
      "text/plain": [
       "<Figure size 432x288 with 1 Axes>"
      ]
     },
     "metadata": {
      "needs_background": "light"
     },
     "output_type": "display_data"
    }
   ],
   "source": [
    "%matplotlib inline\n",
    "import matplotlib.pyplot as plt \n",
    "\n",
    "times = [ i*dt for i in range(N)]\n",
    "sig_analytique = [ sol_analytique(t, [E,mu,load]) for t in times]\n",
    "\n",
    "plt.plot(times, sig_analytique)\n",
    "plt.show()"
   ]
  },
  {
   "cell_type": "markdown",
   "metadata": {},
   "source": [
    "### Résolution numérique \n",
    "\n",
    "Il faut tout d'abord formuler le problème sous la forme : \n",
    "\n",
    "$$ \\dot{q} = B ( q, t ) $$\n",
    "\n",
    "Cela se traduit ici par la définition de la fonction suivante : "
   ]
  },
  {
   "cell_type": "code",
   "execution_count": 7,
   "metadata": {},
   "outputs": [],
   "source": [
    "def fonction_b( sig_previous, t, params):\n",
    "    E = params[0]\n",
    "    mu = params[1]\n",
    "    load = params[2]\n",
    "    return - (E/mu)*sig_previous + E*load"
   ]
  },
  {
   "cell_type": "markdown",
   "metadata": {},
   "source": [
    "### Méthode explicite "
   ]
  },
  {
   "cell_type": "code",
   "execution_count": 8,
   "metadata": {},
   "outputs": [],
   "source": [
    "sig_explicite = [sig_0]\n",
    "for i in range(1, N):\n",
    "    s_previous = sig_explicite[i-1]\n",
    "    s = s_previous + dt * fonction_b( s_previous,  times[i-1], (E, mu, load) )\n",
    "    sig_explicite.append(s)\n",
    "\n"
   ]
  },
  {
   "cell_type": "code",
   "execution_count": 9,
   "metadata": {},
   "outputs": [
    {
     "data": {
      "text/plain": [
       "[<matplotlib.lines.Line2D at 0x7f0a4bb74190>]"
      ]
     },
     "execution_count": 9,
     "metadata": {},
     "output_type": "execute_result"
    },
    {
     "data": {
      "image/png": "[encoded data removed]",
      "text/plain": [
       "<Figure size 432x288 with 1 Axes>"
      ]
     },
     "metadata": {
      "needs_background": "light"
     },
     "output_type": "display_data"
    }
   ],
   "source": [
    "plt.plot(times, sig_explicite)"
   ]
  },
  {
   "cell_type": "markdown",
   "metadata": {},
   "source": [
    "### Méthode implicite \n",
    "\n",
    "Le problème a résoudre étant relativement gentil, problème linéaire, la méthode implicite peut s'appliquer facilement sans avoir besoin d'un schéma de type newton à chaque itération. "
   ]
  },
  {
   "cell_type": "code",
   "execution_count": 10,
   "metadata": {},
   "outputs": [],
   "source": [
    "def fimplicite( sig_previous, dt, params):\n",
    "    E = params[0]\n",
    "    mu = params[1]\n",
    "    load = params[2]\n",
    "\n",
    "    return (sig_previous + dt*E*load) / ( 1 + dt * E/ mu )\n"
   ]
  },
  {
   "cell_type": "code",
   "execution_count": 11,
   "metadata": {},
   "outputs": [],
   "source": [
    "sig_implicite = [sig_0]\n",
    "for i in range(1,N):\n",
    "    s_previous = sig_implicite[i-1]\n",
    "    s = fimplicite( s_previous, dt, (E, mu, load))\n",
    "    sig_implicite.append( s )"
   ]
  },
  {
   "cell_type": "code",
   "execution_count": 12,
   "metadata": {},
   "outputs": [
    {
     "data": {
      "text/plain": [
       "[<matplotlib.lines.Line2D at 0x7f0a4b96fd50>]"
      ]
     },
     "execution_count": 12,
     "metadata": {},
     "output_type": "execute_result"
    },
    {
     "data": {
      "image/png": "[encoded data removed]",
      "text/plain": [
       "<Figure size 432x288 with 1 Axes>"
      ]
     },
     "metadata": {
      "needs_background": "light"
     },
     "output_type": "display_data"
    }
   ],
   "source": [
    "plt.plot(times, sig_implicite)"
   ]
  },
  {
   "cell_type": "markdown",
   "metadata": {},
   "source": [
    "### Méthode de Runge-Kutta"
   ]
  },
  {
   "cell_type": "code",
   "execution_count": 13,
   "metadata": {},
   "outputs": [],
   "source": [
    "sig_rk4 = [sig_0]\n",
    "for i in range(1,N):\n",
    "    s_prev=sig_rk4[i-1]\n",
    "    d1q = dt*fonction_b(s_prev, times[i-1], (E,mu,load))\n",
    "    d2q = dt*fonction_b(s_prev+d1q/2., times[i-1]+dt/2., (E,mu,load))\n",
    "    d3q = dt*fonction_b(s_prev+d2q/2., times[i-1]+dt/2., (E,mu,load))\n",
    "    d4q = dt*fonction_b(s_prev+d3q, times[i-1]+dt, (E,mu,load))\n",
    "    s = s_prev + d1q/6. + d2q/3. + d3q/3.+d4q/6.\n",
    "    sig_rk4.append( s )\n"
   ]
  },
  {
   "cell_type": "code",
   "execution_count": 14,
   "metadata": {},
   "outputs": [
    {
     "data": {
      "text/plain": [
       "[<matplotlib.lines.Line2D at 0x7f0a4b6e5410>]"
      ]
     },
     "execution_count": 14,
     "metadata": {},
     "output_type": "execute_result"
    },
    {
     "data": {
      "image/png": "[encoded data removed]",
      "text/plain": [
       "<Figure size 432x288 with 1 Axes>"
      ]
     },
     "metadata": {
      "needs_background": "light"
     },
     "output_type": "display_data"
    }
   ],
   "source": [
    "plt.plot(times, sig_rk4)"
   ]
  },
  {
   "cell_type": "code",
   "execution_count": null,
   "metadata": {},
   "outputs": [],
   "source": []
  }
 ],
 "metadata": {
  "kernelspec": {
   "display_name": "Python 3.7.4 64-bit ('notebook': conda)",
   "language": "python",
   "name": "python37464bitnotebookcondaf2a876b6f16b4058adafaa8bc5b33803"
  },
  "language_info": {
   "codemirror_mode": {
    "name": "ipython",
    "version": 3
   },
   "file_extension": ".py",
   "mimetype": "text/x-python",
   "name": "python",
   "nbconvert_exporter": "python",
   "pygments_lexer": "ipython3",
   "version": "3.7.4"
  }
 },
 "nbformat": 4,
 "nbformat_minor": 2
}
