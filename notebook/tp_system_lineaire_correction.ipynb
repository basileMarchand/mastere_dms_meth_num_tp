{
 "cells": [
  {
   "cell_type": "markdown",
   "metadata": {},
   "source": [
    "# Mastère DMS : Méthodes Numériques\n",
    "## Résolution de systèmes linéaires\n",
    "\n",
    "@author : Basile Marchand (basile.marchand@mines-paristech.fr)"
   ]
  },
  {
   "cell_type": "markdown",
   "metadata": {},
   "source": [
    "On considère une matrice de rigidité associée à un système de ressorts. L'énergie potentielle $E(\\mathbf{x})$ est la somme des énergies de chaque ressort reliant $x_i$ à $x_j$, moins le travail des efforts extérieurs (ici $x_N \\: F$):\n",
    "$$ E(\\mathbf{x}) = \\sum_{i=1}^N \\frac{1}{2} k \\: \\left(x_{L(i,1)} - x_{L(i,2)}\\right)^2 + \\frac{1}{2} k \\: x_1^2 - x_N\\: F $$\n",
    "$L(k,:)$ est la table de connectivité indiquant les points d'accroche des ressorts.\n",
    "\n",
    "* Construire une fonction `build_system( F, k, N)` construisant la matrice $\\mathbf{K}$ et le second membre $\\mathbf{F}$.\n",
    "* Commenter le profil de la matrice\n",
    "* Étudier le temps de calcul de la factorisation pour $N=10,100,500,1000,5000,10000$\n",
    "* Comment peut on augmenter la largeur  de bande de la matrice ?\n",
    "* Alors faite le\n",
    "* Refaire l'étude des temps de factorisation\n",
    "* Comment peut-on tirer parti de la structure de la matrice ?"
   ]
  },
  {
   "cell_type": "markdown",
   "metadata": {},
   "source": [
    "### Correction dans le cas de ressort homogène et de matrice pleine "
   ]
  },
  {
   "cell_type": "code",
   "execution_count": 21,
   "metadata": {},
   "outputs": [],
   "source": [
    "import numpy as np\n",
    "import time"
   ]
  },
  {
   "cell_type": "code",
   "execution_count": 22,
   "metadata": {},
   "outputs": [],
   "source": [
    "def build_system(connec, k, fext, n):\n",
    "    K =  np.zeros((n,n))\n",
    "    for spring in connec:\n",
    "        kelem =  np.array([[k,-k],[-k,k]])\n",
    "        K[np.ix_(spring,spring)] = K[np.ix_(spring,spring)] +  kelem\n",
    "\n",
    "    F = np.zeros((n,1))\n",
    "    F[n-1] =  fext\n",
    "    return K, F"
   ]
  },
  {
   "cell_type": "markdown",
   "metadata": {},
   "source": [
    "**Construction de la table de connectivité pour des ressorts en séries**"
   ]
  },
  {
   "cell_type": "code",
   "execution_count": 33,
   "metadata": {},
   "outputs": [],
   "source": [
    "L = [ [i,i+1] for i in range(9) ]"
   ]
  },
  {
   "cell_type": "markdown",
   "metadata": {},
   "source": [
    "Appel de la fonction `build_system`"
   ]
  },
  {
   "cell_type": "code",
   "execution_count": 34,
   "metadata": {},
   "outputs": [],
   "source": [
    "K,F = build_system(L, 1., 1., 10)"
   ]
  },
  {
   "cell_type": "markdown",
   "metadata": {},
   "source": [
    "On peut alors remarquer que le système à résoudre est singulier. Cela est du au fait que l'on a pour le moment pas pris en compte les conditions aux limites. $u_0 = 0$. Pour prendre en compte la condition aux limites il faut supprimer la première ligne et première colonne du système linéaire. "
   ]
  },
  {
   "cell_type": "code",
   "execution_count": 35,
   "metadata": {},
   "outputs": [
    {
     "name": "stdout",
     "output_type": "stream",
     "text": [
      "[[1.]\n",
      " [2.]\n",
      " [3.]\n",
      " [4.]\n",
      " [5.]\n",
      " [6.]\n",
      " [7.]\n",
      " [8.]\n",
      " [9.]]\n"
     ]
    }
   ],
   "source": [
    "u = np.linalg.solve(K[1:,1:], F[1:])\n",
    "u_homogene = np.zeros( (u.shape[0]+1, 1))\n",
    "u_homogene[1:] = u \n",
    "print(u)"
   ]
  },
  {
   "cell_type": "markdown",
   "metadata": {},
   "source": [
    "### Prise en compte d'une rigidité variable entre les ressorts"
   ]
  },
  {
   "cell_type": "markdown",
   "metadata": {},
   "source": [
    "Pour prendre en compte la possibilité d'avoir une rigidité différente entre chaque ressort le plus simple est d'ajouter une colonne dans la table de connectivité du système. Nous allons ici considérer des valeurs aléatoires pour chaque ressort "
   ]
  },
  {
   "cell_type": "code",
   "execution_count": 26,
   "metadata": {},
   "outputs": [],
   "source": [
    "L_heterogene = [ [i,i+1, np.random.rand(1)[0] ] for i in range(9) ]"
   ]
  },
  {
   "cell_type": "markdown",
   "metadata": {},
   "source": [
    "La nouvelle fonction permettant de construire le système s'écrit alors de la manière suivante : "
   ]
  },
  {
   "cell_type": "code",
   "execution_count": 27,
   "metadata": {},
   "outputs": [],
   "source": [
    "def build_system_heterogene(connec, fext, n):\n",
    "    K =  np.zeros((n,n))\n",
    "    for i, j, k in connec:\n",
    "        kelem =  np.array([[k,-k],[-k,k]])\n",
    "        K[np.ix_([i,j],[i,j])] = K[np.ix_([i,j],[i,j])] +  kelem\n",
    "\n",
    "    F = np.zeros((n,1))\n",
    "    F[n-1] =  fext\n",
    "    return K, F"
   ]
  },
  {
   "cell_type": "code",
   "execution_count": 28,
   "metadata": {},
   "outputs": [],
   "source": [
    "K,F = build_system_heterogene(L_heterogene, 1., 10)\n",
    "u2 = np.linalg.solve(K[1:,1:], F[1:])\n",
    "u_heterogene = np.zeros((u2.shape[0]+1,1))\n",
    "u_heterogene[1:] = u2"
   ]
  },
  {
   "cell_type": "code",
   "execution_count": 38,
   "metadata": {},
   "outputs": [
    {
     "data": {
      "image/png": "[encoded data removed]",
      "text/plain": [
       "<Figure size 432x288 with 1 Axes>"
      ]
     },
     "metadata": {
      "needs_background": "light"
     },
     "output_type": "display_data"
    }
   ],
   "source": [
    "import matplotlib.pyplot as plt \n",
    "plt.plot(u_homogene, label=\"homogene\")\n",
    "plt.plot(u_heterogene, label=\"heterogene\")\n",
    "plt.legend()\n",
    "plt.show()"
   ]
  },
  {
   "cell_type": "markdown",
   "metadata": {},
   "source": [
    "### Ajout de ressort en parallèle\n",
    "\n",
    "L'ajout de ressort en parallèle se fait simplement en ajoutant des lignes dans la tables de connectivité. Par exemple considérons que l'on ajoute les ressorts reliant les point `i` et `i+2` dans le système. "
   ]
  },
  {
   "cell_type": "code",
   "execution_count": 40,
   "metadata": {},
   "outputs": [],
   "source": [
    "### Partie serie \n",
    "L = [ [i,i+1, np.random.rand(1)[0] ] for i in range(9) ]\n",
    "### Ajout de la partie parallèle \n",
    "L += [ [i, i+2, np.random.rand(1)[0]] for i in range(8)]\n",
    "\n",
    "K_parallel, F_parallel = build_system_heterogene(L, 1., 10)\n",
    "\n",
    "u_tmp = np.linalg.solve(K_parallel[1:,1:], F_parallel[1:])\n",
    "u_parallel = np.zeros((u_tmp.shape[0]+1,1))\n",
    "u_parallel[1:] = u_tmp"
   ]
  },
  {
   "cell_type": "code",
   "execution_count": 42,
   "metadata": {},
   "outputs": [
    {
     "data": {
      "image/png": "[encoded data removed]",
      "text/plain": [
       "<Figure size 432x288 with 1 Axes>"
      ]
     },
     "metadata": {
      "needs_background": "light"
     },
     "output_type": "display_data"
    }
   ],
   "source": [
    "plt.plot(u_parallel)\n",
    "plt.show()"
   ]
  },
  {
   "cell_type": "markdown",
   "metadata": {},
   "source": [
    "### Utilisation de matrice sparse\n",
    "\n",
    "\n",
    "Vous l'avez peut-être remarqué, il y a dans la matrice `K` beaucoup de terme nuls. Il parait donc judicieux d'utiliser pour le stockage de cette matrice une matrice `sparse`. \n",
    "\n",
    "\n"
   ]
  },
  {
   "cell_type": "code",
   "execution_count": 43,
   "metadata": {},
   "outputs": [],
   "source": [
    "import scipy.sparse as sp \n",
    "import scipy.sparse.linalg as spl\n",
    "\n",
    "def build_system_heterogene_sparse(connec, fext, n):\n",
    "    row_idx = []\n",
    "    col_idx = []\n",
    "    data = []\n",
    "    for i, j, k in connec:\n",
    "        kelem =  np.array([[k,-k],[-k,k]])\n",
    "        row_idx += [i, i, j, j]\n",
    "        col_idx += [i, j, i, j]\n",
    "        data += kelem.ravel().tolist()\n",
    "\n",
    "    K = sp.coo_matrix((data, (row_idx, col_idx)) )\n",
    "    F = np.zeros((n,1))\n",
    "    F[n-1] =  fext\n",
    "    return K, F"
   ]
  },
  {
   "cell_type": "markdown",
   "metadata": {},
   "source": [
    "On peut alors utiliser cette nouvelle fonction pour construire un système linéaire sparse qui sera résolu à l'aide de `spl.spsolve`. Nous devrions alors voir apparaitre l'impact de la largeur de bande sur le temps de résolution du problème linéaire. "
   ]
  },
  {
   "cell_type": "code",
   "execution_count": 57,
   "metadata": {},
   "outputs": [
    {
     "name": "stdout",
     "output_type": "stream",
     "text": [
      "env: OMP_NUM_THREADS=1\n",
      "Solve for N = 1000\n",
      "  --> offset = 2\n",
      "  --> offset = 10\n",
      "  --> offset = 50\n",
      "  --> offset = 100\n",
      "  --> offset = 300\n",
      "Solve for N = 2000\n",
      "  --> offset = 2\n",
      "  --> offset = 10\n",
      "  --> offset = 50\n",
      "  --> offset = 100\n",
      "  --> offset = 300\n",
      "Solve for N = 10000\n",
      "  --> offset = 2\n",
      "  --> offset = 10\n",
      "  --> offset = 50\n",
      "  --> offset = 100\n",
      "  --> offset = 300\n",
      "Solve for N = 50000\n",
      "  --> offset = 2\n",
      "  --> offset = 10\n",
      "  --> offset = 50\n",
      "  --> offset = 100\n",
      "  --> offset = 300\n",
      "Solve for N = 100000\n",
      "  --> offset = 2\n",
      "  --> offset = 10\n",
      "  --> offset = 50\n",
      "  --> offset = 100\n",
      "  --> offset = 300\n"
     ]
    }
   ],
   "source": [
    "%env OMP_NUM_THREADS=1\n",
    "\n",
    "# Systeme de 1000 à 50000 ressort \n",
    "listN = [1000, 2000, 10000, 50000, 100000]\n",
    "k = 1.\n",
    "fext = 1.\n",
    "\n",
    "offsets = [2,10,50, 100, 300]\n",
    "times = {\"serie\" : []}\n",
    "for off in offsets:\n",
    "    times[off] = []\n",
    "\n",
    "for N in listN:\n",
    "    print(f\"Solve for N = {N}\")\n",
    "    \n",
    "    ## Resolution du probleme de ressort en serie\n",
    "    L = [ [i,i+1, 1.] for i in range(N-1) ]\n",
    "    K,F = build_system_heterogene_sparse(L, fext, N)\n",
    "    K1 = K.tocsc()\n",
    "    Kk = K1[1:,1:]\n",
    "    t0 = time.time()\n",
    "    x = spl.spsolve( Kk, F[1:])\n",
    "    t1 = time.time()\n",
    "\n",
    "    times[\"serie\"].append(t1-t0)\n",
    "\n",
    "    \n",
    "    ## Resolution des problemes avec ressort en parallèle \n",
    "    \n",
    "    for offset in offsets:\n",
    "        print(f\"  --> offset = {offset}\")\n",
    "        L_offset = L[:]\n",
    "        L_offset += [[i, i+offset, 1] for i in range(N-offset) ]\n",
    "        K,F = build_system_heterogene_sparse(L_offset, fext, N)\n",
    "        K1 = K.tocsc()\n",
    "        Kk = K1[1:,1:]\n",
    "        t0 = time.time()\n",
    "        x = spl.spsolve( Kk, F[1:])\n",
    "        t1 = time.time()\n",
    "        times[offset].append(t1-t0)"
   ]
  },
  {
   "cell_type": "code",
   "execution_count": 58,
   "metadata": {},
   "outputs": [
    {
     "data": {
      "text/plain": [
       "<matplotlib.legend.Legend at 0x7f0d93d46750>"
      ]
     },
     "execution_count": 58,
     "metadata": {},
     "output_type": "execute_result"
    },
    {
     "data": {
      "image/png": "[encoded data removed]",
      "text/plain": [
       "<Figure size 432x288 with 1 Axes>"
      ]
     },
     "metadata": {
      "needs_background": "light"
     },
     "output_type": "display_data"
    }
   ],
   "source": [
    "import matplotlib.pyplot as plt\n",
    "%matplotlib inline\n",
    "\n",
    "plt.semilogy(listN, times[\"serie\"], label='ressorts serie')\n",
    "for key, value in times.items():\n",
    "    if key == \"serie\":\n",
    "        continue\n",
    "    plt.semilogy(listN, value, label=f'avec i->i+{key} en plus')\n",
    "\n",
    "plt.xlabel(\"#DOF\")\n",
    "plt.ylabel(\"Time (s)\")\n",
    "plt.legend()\n"
   ]
  },
  {
   "cell_type": "code",
   "execution_count": null,
   "metadata": {},
   "outputs": [],
   "source": []
  }
 ],
 "metadata": {
  "kernelspec": {
   "display_name": "Python 3",
   "language": "python",
   "name": "python3"
  },
  "language_info": {
   "codemirror_mode": {
    "name": "ipython",
    "version": 3
   },
   "file_extension": ".py",
   "mimetype": "text/x-python",
   "name": "python",
   "nbconvert_exporter": "python",
   "pygments_lexer": "ipython3",
   "version": "3.7.4"
  }
 },
 "nbformat": 4,
 "nbformat_minor": 2
}
